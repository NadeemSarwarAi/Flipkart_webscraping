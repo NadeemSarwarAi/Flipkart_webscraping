{
 "cells": [
  {
   "cell_type": "markdown",
   "id": "a9f46c03",
   "metadata": {},
   "source": [
    "### Importing Library"
   ]
  },
  {
   "cell_type": "code",
   "execution_count": 34,
   "id": "64d1299d",
   "metadata": {},
   "outputs": [],
   "source": [
    "from bs4 import BeautifulSoup\n",
    "import pandas as pd\n",
    "import numpy as np\n",
    "import requests\n"
   ]
  },
  {
   "cell_type": "code",
   "execution_count": 35,
   "id": "e236b7d2",
   "metadata": {},
   "outputs": [],
   "source": [
    "headers={'User-Agent':'Mozilla/5.0 (Windows NT 6.3; Win 64 ; x64) Apple WeKit /537.36(KHTML , like Gecko) Chrome/80.0.3987.162 Safari/537.36'}\n",
    "webpage=requests.get('https://www.flipkart.com/search?q=shoes&otracker=search&otracker1=search&marketplace=FLIPKART&as-show=on&as=off',headers=headers)"
   ]
  },
  {
   "cell_type": "code",
   "execution_count": 36,
   "id": "a48a3030",
   "metadata": {},
   "outputs": [
    {
     "data": {
      "text/plain": [
       "<Response [200]>"
      ]
     },
     "execution_count": 36,
     "metadata": {},
     "output_type": "execute_result"
    }
   ],
   "source": [
    "webpage"
   ]
  },
  {
   "cell_type": "code",
   "execution_count": 37,
   "id": "25d2b80f",
   "metadata": {},
   "outputs": [],
   "source": [
    "soup=BeautifulSoup(webpage.text,\"lxml\")"
   ]
  },
  {
   "cell_type": "code",
   "execution_count": 38,
   "id": "592b0907",
   "metadata": {},
   "outputs": [],
   "source": [
    "box=soup.find(\"div\", class_=\"_1YokD2 _3Mn1Gg\")"
   ]
  },
  {
   "cell_type": "code",
   "execution_count": 39,
   "id": "005a4614",
   "metadata": {},
   "outputs": [
    {
     "name": "stdout",
     "output_type": "stream",
     "text": [
      "['FIRST Running Shoes For Men', 'Bersache Sports Shoes For Men|Light Grey For Running,Wa...', 'Trending Stylish Casual Outdoor Sneakers Shoes For Men ...', 'Trendy Running Shoes Running Shoes For Men', 'Modern Trendy Sneakers Shoes Sneakers For Men', 'Lite Sports Shoes Running Shoes For Men', 'GLOBAL Sports shoes, Running, Walking, Lightweight, Gym...', 'Bersache Sports Walking Gym sneakers Trekking Hiking Sh...', 'Slip On For Men', 'Trendy & Stylish Running Shoes For Men', 'KICK-2 AEROFOAM HYPERBOUNZE FAST Trenddy, lightweight, ...', 'Bersache Sports Shoes For Men| (Blue) For Running,Walki...', 'Sneakers For Women', 'FK-394 Ultrafit Running Shoes For Men', 'Wind-04 Walking Shoes For Men', 'HURRICANE Running Shoes For Men', 'Bersache Sports Walking Gym sneakers Trekking Hiking Sh...', 'Bersache Sports Shoes For Men|Blue For Running,Walking,...', 'wndr-13 sports shoes for men | Latest Stylish Casual sp...', 'DYNAMIC RUN Running Shoes For Men', 'Lightweight,Comfort,Summer,Trendy,Walking,Outdoor,Styli...', 'ANTHEM 5 Running Shoes For Men', 'Premium Sports Shoes for Men Walking Shoes For Men', 'Sneakers Walking Shoes For Men', 'HURRICANE Running Shoes For Men', 'Fit-Man Loafers For Men', 'STYLISH LIGHT WEIGHT SPORTS SHOES FOR BOYS Slip On Snea...', 'Running Shoes For Men', 'Casual Sneaker Shoes For Men | Enhanced Comfort with Cu...', 'Premium Comfortable Regular Wear Walking Shoes For Men', 'WideWalk M Walking Shoes For Men', 'Bersache Sports Shoes For Men|Red For Running,Walking,g...', 'SYRUS Running Shoes For Men', 'Delta-20 White Sports,Casual,Walking,Gym, Walking Shoes...', 'Slip On For Men', 'Lace Up For Men', 'Bersache Sports Walking Gym sneakers Trekking Hiking Sh...', 'Sneakers For Men', 'Trendy Sports Running Running Shoes For Men', 'GK gym shoes for women Casuals For Women']\n"
     ]
    }
   ],
   "source": [
    "names=[]\n",
    "name_ele=box.find_all(\"a\" ,class_=\"IRpwTa\" )\n",
    "for name in name_ele:\n",
    "    n=name.text.strip()\n",
    "    names.append(n)\n",
    "print(names)"
   ]
  },
  {
   "cell_type": "code",
   "execution_count": 40,
   "id": "0c9f5fed",
   "metadata": {},
   "outputs": [
    {
     "data": {
      "text/plain": [
       "40"
      ]
     },
     "execution_count": 40,
     "metadata": {},
     "output_type": "execute_result"
    }
   ],
   "source": [
    "len(names)"
   ]
  },
  {
   "cell_type": "code",
   "execution_count": 41,
   "id": "e7c6eb98",
   "metadata": {},
   "outputs": [
    {
     "name": "stdout",
     "output_type": "stream",
     "text": [
      "['CAMPUS', 'BERSACHE', 'URBANBOX', 'BRUTON', 'BRUTON', 'BRUTON', 'JQR', 'BERSACHE', 'INVICTUS', 'HOTSTYLE', 'JQR', 'BERSACHE', 'Deals4you', 'Free Kicks', 'asian', 'CAMPUS', 'BERSACHE', 'BERSACHE', 'asian', 'HRX by Hrithik Roshan', 'aadi', 'BROOKS', 'BIRDE', 'URBANBOX', 'CAMPUS', 'BRUTON', 'TPENT', 'BERSACHE', 'asian', 'BIRDE', 'ADIDAS', 'BERSACHE', 'CAMPUS', 'asian', 'Bata', 'INVICTUS', 'BERSACHE', 'Racter', 'BRUTON', 'WalkLine']\n"
     ]
    }
   ],
   "source": [
    "brand=[]\n",
    "all_brand=box.find_all(\"div\" ,class_=\"_2WkVRV\")\n",
    "for i in all_brand:\n",
    "    n=i.text\n",
    "    brand.append(n)\n",
    "print(brand)"
   ]
  },
  {
   "cell_type": "code",
   "execution_count": 42,
   "id": "06b290a1",
   "metadata": {},
   "outputs": [
    {
     "data": {
      "text/plain": [
       "40"
      ]
     },
     "execution_count": 42,
     "metadata": {},
     "output_type": "execute_result"
    }
   ],
   "source": [
    "len(brand)"
   ]
  },
  {
   "cell_type": "code",
   "execution_count": 43,
   "id": "e8453f51",
   "metadata": {},
   "outputs": [
    {
     "data": {
      "text/plain": [
       "['₹1,274',\n",
       " '₹1,109',\n",
       " '₹299',\n",
       " '₹299',\n",
       " '₹229',\n",
       " '₹547',\n",
       " '₹1,119',\n",
       " '₹911',\n",
       " '₹1,219',\n",
       " '₹239',\n",
       " '₹1,249',\n",
       " '₹1,113',\n",
       " '₹299',\n",
       " '₹279',\n",
       " '₹649',\n",
       " '₹749',\n",
       " '₹949',\n",
       " '₹949',\n",
       " '₹599',\n",
       " '₹1,320',\n",
       " '₹386',\n",
       " '₹4,081',\n",
       " '₹309',\n",
       " '₹159',\n",
       " '₹749',\n",
       " '₹149',\n",
       " '₹444',\n",
       " '₹882',\n",
       " '₹799',\n",
       " '₹491',\n",
       " '₹1,800',\n",
       " '₹649',\n",
       " '₹1,239',\n",
       " '₹869',\n",
       " '₹649',\n",
       " '₹1,219',\n",
       " '₹882',\n",
       " '₹629',\n",
       " '₹299',\n",
       " '₹524']"
      ]
     },
     "execution_count": 43,
     "metadata": {},
     "output_type": "execute_result"
    }
   ],
   "source": [
    "prices=[]\n",
    "all_prices=box.find_all(\"div\", class_=\"_30jeq3\")\n",
    "for i in all_prices:\n",
    "    n=i.text\n",
    "    prices.append(n)\n",
    "prices"
   ]
  },
  {
   "cell_type": "code",
   "execution_count": 44,
   "id": "8b40256a",
   "metadata": {},
   "outputs": [
    {
     "data": {
      "text/plain": [
       "40"
      ]
     },
     "execution_count": 44,
     "metadata": {},
     "output_type": "execute_result"
    }
   ],
   "source": [
    "len(prices)"
   ]
  },
  {
   "cell_type": "code",
   "execution_count": 45,
   "id": "308b2c59",
   "metadata": {},
   "outputs": [],
   "source": [
    "making_dict={\"Shoes_Description\":names,\"Shoes_brand\":brand,\"Shoes_Prices\":prices}"
   ]
  },
  {
   "cell_type": "code",
   "execution_count": 46,
   "id": "191bf318",
   "metadata": {},
   "outputs": [],
   "source": [
    "df=pd.DataFrame(making_dict)"
   ]
  },
  {
   "cell_type": "code",
   "execution_count": 47,
   "id": "caaaf6ba",
   "metadata": {},
   "outputs": [
    {
     "data": {
      "text/plain": [
       "(40, 3)"
      ]
     },
     "execution_count": 47,
     "metadata": {},
     "output_type": "execute_result"
    }
   ],
   "source": [
    "df.shape"
   ]
  },
  {
   "cell_type": "markdown",
   "id": "bdd170d6",
   "metadata": {},
   "source": [
    "#### Extracting data from 1 to 20 pages "
   ]
  },
  {
   "cell_type": "code",
   "execution_count": 54,
   "id": "8a3aed3f",
   "metadata": {},
   "outputs": [],
   "source": [
    "names = []\n",
    "brand = []\n",
    "prices = []\n",
    "\n",
    "for i in range(1, 20):\n",
    "    url = \"https://www.flipkart.com/search?q=shoes&otracker=search&otracker1=search&marketplace=FLIPKART&as-show=on&as=off&page={}\".format(i)\n",
    "    headers = {'User-Agent': 'Mozilla/5.0 (Windows NT 6.3; Win 64 ; x64) Apple WeKit /537.36(KHTML , like Gecko) Chrome/80.0.3987.162 Safari/537.36'}\n",
    "    webpage = requests.get(url, headers=headers).content\n",
    "\n",
    "    soup = BeautifulSoup(webpage, \"lxml\")\n",
    "\n",
    "    box = soup.find(\"div\", class_=\"_1YokD2 _3Mn1Gg\")\n",
    "\n",
    "    if box:\n",
    "        name_ele = box.find_all(\"a\", class_=\"IRpwTa\")\n",
    "        for name in name_ele:\n",
    "            n = name.text\n",
    "            names.append(n)\n",
    "\n",
    "        all_brand = box.find_all(\"div\", class_=\"_2WkVRV\")\n",
    "        for i in all_brand:\n",
    "            n = i.text\n",
    "            brand.append(n)\n",
    "\n",
    "        all_prices = box.find_all(\"div\", class_=\"_30jeq3\")\n",
    "        for i in all_prices:\n",
    "            n = i.text\n",
    "            prices.append(n)\n",
    "\n",
    "making_dict = {\"Shoes_Description\": names, \"Shoes_brand\": brand, \"Shoes_Prices\": prices}\n",
    "df = pd.DataFrame(making_dict)\n"
   ]
  },
  {
   "cell_type": "code",
   "execution_count": 55,
   "id": "ad67254c",
   "metadata": {},
   "outputs": [
    {
     "data": {
      "text/plain": [
       "(560, 3)"
      ]
     },
     "execution_count": 55,
     "metadata": {},
     "output_type": "execute_result"
    }
   ],
   "source": [
    "df.shape"
   ]
  },
  {
   "cell_type": "code",
   "execution_count": 56,
   "id": "a6bf1735",
   "metadata": {},
   "outputs": [],
   "source": [
    "df.to_csv(\"Flipkart_scaped_data\")"
   ]
  },
  {
   "cell_type": "code",
   "execution_count": null,
   "id": "d2762cac",
   "metadata": {},
   "outputs": [],
   "source": []
  }
 ],
 "metadata": {
  "kernelspec": {
   "display_name": "Python 3 (ipykernel)",
   "language": "python",
   "name": "python3"
  },
  "language_info": {
   "codemirror_mode": {
    "name": "ipython",
    "version": 3
   },
   "file_extension": ".py",
   "mimetype": "text/x-python",
   "name": "python",
   "nbconvert_exporter": "python",
   "pygments_lexer": "ipython3",
   "version": "3.11.5"
  }
 },
 "nbformat": 4,
 "nbformat_minor": 5
}
