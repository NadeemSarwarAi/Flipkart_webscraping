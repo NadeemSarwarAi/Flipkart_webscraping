{
 "cells": [
  {
   "cell_type": "markdown",
   "id": "411bd5ba",
   "metadata": {},
   "source": [
    "### Importing modules"
   ]
  },
  {
   "cell_type": "code",
   "execution_count": 17,
   "id": "64d1299d",
   "metadata": {},
   "outputs": [],
   "source": [
    "from bs4 import BeautifulSoup\n",
    "import pandas as pd\n",
    "import numpy as np\n",
    "import requests\n"
   ]
  },
  {
   "cell_type": "code",
   "execution_count": 18,
   "id": "e236b7d2",
   "metadata": {},
   "outputs": [],
   "source": [
    "headers={'User-Agent':'Mozilla/5.0 (Windows NT 6.3; Win 64 ; x64) Apple WeKit /537.36(KHTML , like Gecko) Chrome/80.0.3987.162 Safari/537.36'}\n",
    "webpage=requests.get('https://www.flipkart.com/search?q=shoes&otracker=search&otracker1=search&marketplace=FLIPKART&as-show=on&as=off',headers=headers)"
   ]
  },
  {
   "cell_type": "code",
   "execution_count": 19,
   "id": "a48a3030",
   "metadata": {},
   "outputs": [
    {
     "data": {
      "text/plain": [
       "<Response [200]>"
      ]
     },
     "execution_count": 19,
     "metadata": {},
     "output_type": "execute_result"
    }
   ],
   "source": [
    "webpage"
   ]
  },
  {
   "cell_type": "code",
   "execution_count": 20,
   "id": "25d2b80f",
   "metadata": {},
   "outputs": [],
   "source": [
    "soup=BeautifulSoup(webpage.text,\"lxml\")"
   ]
  },
  {
   "cell_type": "code",
   "execution_count": 21,
   "id": "592b0907",
   "metadata": {},
   "outputs": [],
   "source": [
    "box=soup.find(\"div\", class_=\"_1YokD2 _3Mn1Gg\")"
   ]
  },
  {
   "cell_type": "code",
   "execution_count": 22,
   "id": "005a4614",
   "metadata": {},
   "outputs": [
    {
     "name": "stdout",
     "output_type": "stream",
     "text": [
      "['100% Pure Leather Stylish Partywear Premium Quality Sta...', 'Boots For Men', 'Trending Stylish Casual Outdoor Sneakers Shoes For Men ...', 'Trendy Running Shoes Running Shoes For Men', 'Modern Trendy Sneakers Shoes Sneakers For Men', 'Lite Sports Shoes Running Shoes For Men', 'Action Athleo ATG-496 Light Weight,Comfortable,Trendy,R...', 'Lightweight,Comfort,Summer,Trendy,Walking,Outdoor,Styli...', 'Mens 3 Inch Hidden Height Increasing Latest Style Blue ...', 'Trendy & Stylish Running Shoes For Men', 'Synthetic Leather Black Formal Office Shoes Slip On For...', 'Action Athleo ATG-424 Lighweight & Comfortable Casuals ...', 'Sneakers For Women', 'MIKE (N) Running Shoes For Men', 'HURRICANE Running Shoes For Men', 'Wind-04 Grey Sports, Gym, Training, Running, Trendy Wal...', 'BCK8020 Lightweight Comfort Summer Trendy Premium Styli...', 'Cricket Shoes Rubber Studs For Men Cricket Shoes For Me...', 'FK-394 Sports Running Shoes For Men', 'FLICKER Running Shoes For Women', '100% Pure Leather Stylish Partywear Premium Quality Sta...', 'Junior Zero1 Sports shoes for Men | Gym Training Walkin...', 'FK-394 Ultrafit Running Shoes For Men', 'wndr-13 sports shoes for men | Latest Stylish Casual sp...', 'Premium Sports Shoes for Men Walking Shoes For Men', 'HURRICANE Running Shoes For Men', '001 Cricket Shoes For Men', '001 Cricket Shoes For Men', 'Oxygen-05 White Sports Running,Walking,Gym Shoes With P...', 'Slip On For Men', 'Training & Gym Shoes For Men', '001 Cricket Shoes For Men', 'Sneakers Walking Shoes For Men', 'Newton-06 Running Shoes For Men', 'NORTH PLUS Running Shoes For Men', 'Sneakers For Men', 'Action Athleo ATG-496 Light Weight,Comfortable,Trendy,R...', 'Synthetic Leather Ankle Formal Shoes Men || Office Shoe...', 'SYRUS Running Shoes For Men', 'Trendy Sports Running Running Shoes For Men']\n"
     ]
    }
   ],
   "source": [
    "names=[]\n",
    "name_ele=box.find_all(\"a\" ,class_=\"IRpwTa\" )\n",
    "for name in name_ele:\n",
    "    n=name.text.strip()\n",
    "    names.append(n)\n",
    "print(names)"
   ]
  },
  {
   "cell_type": "code",
   "execution_count": 23,
   "id": "0c9f5fed",
   "metadata": {},
   "outputs": [
    {
     "data": {
      "text/plain": [
       "40"
      ]
     },
     "execution_count": 23,
     "metadata": {},
     "output_type": "execute_result"
    }
   ],
   "source": [
    "len(names)"
   ]
  },
  {
   "cell_type": "code",
   "execution_count": 24,
   "id": "e7c6eb98",
   "metadata": {},
   "outputs": [
    {
     "name": "stdout",
     "output_type": "stream",
     "text": [
      "['WUGATTI', 'Layasa', 'URBANBOX', 'BRUTON', 'BRUTON', 'BRUTON', 'action', 'aadi', 'BXXY', 'HOTSTYLE', 'Stylelure', 'action', 'Deals4you', 'CAMPUS', 'CAMPUS', 'asian', 'Bucik', 'Proase', 'Free Kicks', 'CAMPUS', 'WUGATTI', 'Airson', 'Free Kicks', 'asian', 'BIRDE', 'CAMPUS', 'BAS Vampire', 'BAS Vampire', 'asian', 'Bata', 'XTREAMFEET', 'BAS Vampire', 'URBANBOX', 'asian', 'CAMPUS', 'Roadster', 'action', 'Zixer', 'CAMPUS', 'BRUTON']\n"
     ]
    }
   ],
   "source": [
    "brand=[]\n",
    "all_brand=box.find_all(\"div\" ,class_=\"_2WkVRV\")\n",
    "for i in all_brand:\n",
    "    n=i.text\n",
    "    brand.append(n)\n",
    "print(brand)"
   ]
  },
  {
   "cell_type": "code",
   "execution_count": 25,
   "id": "06b290a1",
   "metadata": {},
   "outputs": [
    {
     "data": {
      "text/plain": [
       "40"
      ]
     },
     "execution_count": 25,
     "metadata": {},
     "output_type": "execute_result"
    }
   ],
   "source": [
    "len(brand)"
   ]
  },
  {
   "cell_type": "code",
   "execution_count": 26,
   "id": "e8453f51",
   "metadata": {},
   "outputs": [
    {
     "data": {
      "text/plain": [
       "['₹549',\n",
       " '₹699',\n",
       " '₹299',\n",
       " '₹299',\n",
       " '₹229',\n",
       " '₹547',\n",
       " '₹879',\n",
       " '₹386',\n",
       " '₹3,999',\n",
       " '₹239',\n",
       " '₹499',\n",
       " '₹629',\n",
       " '₹299',\n",
       " '₹899',\n",
       " '₹749',\n",
       " '₹649',\n",
       " '₹489',\n",
       " '₹699',\n",
       " '₹279',\n",
       " '₹1,239',\n",
       " '₹549',\n",
       " '₹1,299',\n",
       " '₹279',\n",
       " '₹599',\n",
       " '₹309',\n",
       " '₹749',\n",
       " '₹1,499',\n",
       " '₹1,499',\n",
       " '₹1,099',\n",
       " '₹649',\n",
       " '₹1,379',\n",
       " '₹1,499',\n",
       " '₹159',\n",
       " '₹649',\n",
       " '₹1,274',\n",
       " '₹982',\n",
       " '₹879',\n",
       " '₹620',\n",
       " '₹1,239',\n",
       " '₹299']"
      ]
     },
     "execution_count": 26,
     "metadata": {},
     "output_type": "execute_result"
    }
   ],
   "source": [
    "prices=[]\n",
    "all_prices=box.find_all(\"div\", class_=\"_30jeq3\")\n",
    "for i in all_prices:\n",
    "    n=i.text\n",
    "    prices.append(n)\n",
    "prices"
   ]
  },
  {
   "cell_type": "code",
   "execution_count": 27,
   "id": "8b40256a",
   "metadata": {},
   "outputs": [
    {
     "data": {
      "text/plain": [
       "40"
      ]
     },
     "execution_count": 27,
     "metadata": {},
     "output_type": "execute_result"
    }
   ],
   "source": [
    "len(prices)"
   ]
  },
  {
   "cell_type": "code",
   "execution_count": 30,
   "id": "308b2c59",
   "metadata": {},
   "outputs": [],
   "source": [
    "making_dict={\"Shoes_Description\":names,\"Shoes_brand\":brand,\"Shoes_Prices\":prices}"
   ]
  },
  {
   "cell_type": "code",
   "execution_count": 31,
   "id": "191bf318",
   "metadata": {},
   "outputs": [],
   "source": [
    "df=pd.DataFrame(making_dict)"
   ]
  },
  {
   "cell_type": "code",
   "execution_count": 32,
   "id": "caaaf6ba",
   "metadata": {},
   "outputs": [
    {
     "data": {
      "text/plain": [
       "(40, 3)"
      ]
     },
     "execution_count": 32,
     "metadata": {},
     "output_type": "execute_result"
    }
   ],
   "source": [
    "df.shape"
   ]
  },
  {
   "cell_type": "markdown",
   "id": "e26710e8",
   "metadata": {},
   "source": [
    "#### Extracting data from 1 to 20 pages "
   ]
  },
  {
   "cell_type": "code",
   "execution_count": null,
   "id": "df8a19d8",
   "metadata": {},
   "outputs": [],
   "source": [
    "names=[]\n",
    "brand=[]\n",
    "prices=[]\n",
    "for i in range(1,20):\n",
    "    \n",
    "    url=\"https://www.flipkart.com/search?q=shoes&otracker=search&otracker1=search&marketplace=FLIPKART&as-show=on&as=off&page={}\".format(i)\n",
    "    headers={'User-Agent':'Mozilla/5.0 (Windows NT 6.3; Win 64 ; x64) Apple WeKit /537.36(KHTML , like Gecko) Chrome/80.0.3987.162 Safari/537.36'}\n",
    "    webpage=requests.get(url,headers=headers).content\n",
    "    \n",
    "    \n",
    "    soup=BeautifulSoup(webpage,\"lxml\")\n",
    "    \n",
    "    box=soup.find(\"div\", class_=\"_1YokD2 _3Mn1Gg\")\n",
    "    \n",
    "    name_ele=box.find_all(\"a\" ,class_=\"IRpwTa\" )\n",
    "    for name in name_ele:\n",
    "        n=name.text\n",
    "        names.append(n)\n",
    "    \n",
    "    all_brand=box.find_all(\"div\" ,class_=\"_2WkVRV\")\n",
    "    for i in all_brand:\n",
    "        n=i.text\n",
    "        brand.append(n)\n",
    "        \n",
    "    \n",
    "    all_prices=box.find_all(\"div\", class_=\"_30jeq3\")\n",
    "    for i in all_prices:\n",
    "        n=i.text\n",
    "        prices.append(n)\n",
    "        \n",
    "\n",
    "making_dict={\"Shoes_Description\":names,\"Shoes_brand\":brand,\"Shoes_Prices\":prices}\n",
    "df=pd.DataFrame(making_dict)"
   ]
  },
  {
   "cell_type": "code",
   "execution_count": null,
   "id": "8a3aed3f",
   "metadata": {},
   "outputs": [],
   "source": [
    "df.shape"
   ]
  },
  {
   "cell_type": "code",
   "execution_count": null,
   "id": "ad67254c",
   "metadata": {},
   "outputs": [],
   "source": [
    "df.to_csv(\"flipkart_data.csv\")\n"
   ]
  },
  {
   "cell_type": "code",
   "execution_count": null,
   "id": "db939b07",
   "metadata": {},
   "outputs": [],
   "source": []
  }
 ],
 "metadata": {
  "kernelspec": {
   "display_name": "Python 3 (ipykernel)",
   "language": "python",
   "name": "python3"
  },
  "language_info": {
   "codemirror_mode": {
    "name": "ipython",
    "version": 3
   },
   "file_extension": ".py",
   "mimetype": "text/x-python",
   "name": "python",
   "nbconvert_exporter": "python",
   "pygments_lexer": "ipython3",
   "version": "3.11.5"
  }
 },
 "nbformat": 4,
 "nbformat_minor": 5
}
